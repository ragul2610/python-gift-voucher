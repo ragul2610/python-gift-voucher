{
 "cells": [
  {
   "cell_type": "markdown",
   "id": "4373e9a0",
   "metadata": {},
   "source": [
    "# Birthday gift voucher"
   ]
  },
  {
   "cell_type": "code",
   "execution_count": 2,
   "id": "9e39cad6",
   "metadata": {},
   "outputs": [
    {
     "name": "stdout",
     "output_type": "stream",
     "text": [
      "Dear John Lee wishing you a happy birthday! On behalf of your birthday and upcoming Christmas, we offer you a gift voucher valid of $ 250\n",
      "Birthday = 100 \n",
      "Christmas= 150\n",
      "\n",
      "Dear Tim Brooks wishing you a happy birthday! On behalf of your birthday and upcoming Veterans Day, we offer you a gift voucher valid of $ 200\n",
      "Birthday = 100 \n",
      "Veterans day= 100\n",
      "\n",
      "Dear Alice Cook wishing you a happy birthday! On behalf of your birthday and upcoming Independence Day, we offer you a gift voucher valid of $ 150\n",
      "Birthday = 100 ,\n",
      "Independence day= 50\n",
      "\n",
      "Dear Joshua John wishing you a happy birthday! On behalf of your birthday, we offer you a gift voucher valid of $ 100\n",
      "Birthday = 100\n",
      "\n",
      "Dear Alisa Matt wishing you a happy birthday! On behalf of your birthday, we offer you a gift voucher valid of $ 100\n",
      "Birthday = 100\n"
     ]
    }
   ],
   "source": [
    "emp_details = {\"John Lee\": \"12-12-1976\",\"Tim Brooks\": \"11-04-1980\",\n",
    "               \"Alice Cook\": \"07-01-1978\",\"Joshua John\": \"05-02-1991\",\n",
    "               \"Alisa Matt\": \"03-04-1990\"}\n",
    "\n",
    "                            # Federal holidays\n",
    "holidays = {\"Christmas\": \"12-25\",\n",
    "            \"Veterans Day\": \"11-11\",\n",
    "            \"Independence Day\": \"07-04\"}\n",
    "\n",
    "amount = 100\n",
    "\n",
    "for name, birthdate in emp_details.items():\n",
    "    split = birthdate.split('-')\n",
    "    month = int(split[0])    #finding month from date\n",
    "\n",
    "    if month == 12:\n",
    "        dec = 150\n",
    "        print(\"Dear\", name, \"wishing you a happy birthday! On behalf of your birthday and upcoming Christmas, we offer you a gift voucher valid of $\", amount + dec)\n",
    "        print(\"Birthday =\",amount,\"\\nChristmas=\",dec)\n",
    "    elif month == 11:\n",
    "        nov = 100\n",
    "        print(\"\\nDear\", name, \"wishing you a happy birthday! On behalf of your birthday and upcoming Veterans Day, we offer you a gift voucher valid of $\", amount + nov)\n",
    "        print(\"Birthday =\",amount,\"\\nVeterans day=\",nov)\n",
    "    elif month == 7:\n",
    "        july = 50\n",
    "        print(\"\\nDear\", name, \"wishing you a happy birthday! On behalf of your birthday and upcoming Independence Day, we offer you a gift voucher valid of $\", amount + july)\n",
    "        print(\"Birthday =\",amount,\",\\nIndependence day=\",july)\n",
    "    else:\n",
    "        print(\"\\nDear\", name, \"wishing you a happy birthday! On behalf of your birthday, we offer you a gift voucher valid of $\", amount)\n",
    "        print(\"Birthday =\",amount)"
   ]
  },
  {
   "cell_type": "markdown",
   "id": "e2cae8fe",
   "metadata": {},
   "source": [
    "Conclusion - The program for the birthday voucher of the employees are displayed as per the federal holidays"
   ]
  }
 ],
 "metadata": {
  "kernelspec": {
   "display_name": "Python 3 (ipykernel)",
   "language": "python",
   "name": "python3"
  },
  "language_info": {
   "codemirror_mode": {
    "name": "ipython",
    "version": 3
   },
   "file_extension": ".py",
   "mimetype": "text/x-python",
   "name": "python",
   "nbconvert_exporter": "python",
   "pygments_lexer": "ipython3",
   "version": "3.11.3"
  }
 },
 "nbformat": 4,
 "nbformat_minor": 5
}
