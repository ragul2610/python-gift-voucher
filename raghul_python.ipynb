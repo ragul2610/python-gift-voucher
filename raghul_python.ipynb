{
 "cells": [
  {
   "cell_type": "code",
   "execution_count": 1,
   "id": "761652b9",
   "metadata": {},
   "outputs": [
    {
     "name": "stdout",
     "output_type": "stream",
     "text": [
      "enter the number :2\n",
      " the multiplication value:2 X 1 = 2\n",
      " the multiplication value:2 X 2 = 4\n",
      " the multiplication value:2 X 3 = 6\n",
      " the multiplication value:2 X 4 = 8\n",
      " the multiplication value:2 X 5 = 10\n",
      " the multiplication value:2 X 6 = 12\n",
      " the multiplication value:2 X 7 = 14\n",
      " the multiplication value:2 X 8 = 16\n",
      " the multiplication value:2 X 9 = 18\n",
      " the multiplication value:2 X 10 = 20\n"
     ]
    }
   ],
   "source": [
    "num = int(input(\"enter the number :\"))\n",
    "for a in range(1,11):\n",
    "    print(f' the multiplication value:{num} X {a} = {num*a}')"
   ]
  },
  {
   "cell_type": "code",
   "execution_count": 2,
   "id": "99fb64c2",
   "metadata": {},
   "outputs": [],
   "source": [
    "import pandas as pd\n",
    "import numpy as np\n",
    "from sqlalchemy import create_engine\n",
    "import gc"
   ]
  },
  {
   "cell_type": "code",
   "execution_count": null,
   "id": "51273c61",
   "metadata": {},
   "outputs": [],
   "source": []
  }
 ],
 "metadata": {
  "kernelspec": {
   "display_name": "Python 3 (ipykernel)",
   "language": "python",
   "name": "python3"
  },
  "language_info": {
   "codemirror_mode": {
    "name": "ipython",
    "version": 3
   },
   "file_extension": ".py",
   "mimetype": "text/x-python",
   "name": "python",
   "nbconvert_exporter": "python",
   "pygments_lexer": "ipython3",
   "version": "3.11.3"
  }
 },
 "nbformat": 4,
 "nbformat_minor": 5
}
